{
 "cells": [
  {
   "cell_type": "code",
   "execution_count": 4,
   "metadata": {},
   "outputs": [],
   "source": [
    "import cv2\n",
    "import dlib\n",
    "import numpy as np\n",
    "from math import hypot\n",
    "import pyautogui\n",
    "pyautogui.FAILSAFE = False"
   ]
  },
  {
   "cell_type": "code",
   "execution_count": 5,
   "metadata": {},
   "outputs": [],
   "source": [
    "cap = cv2.VideoCapture(0)\n",
    "detector = dlib.get_frontal_face_detector()\n",
    "predictor = dlib.shape_predictor(\"shape_predictor_68_face_landmarks.dat\")\n",
    "def midpoint(p1, p2):\n",
    "    return int((p1.x+p2.x)/2), int((p1.y+ +p2.y)/2)\n",
    "def get_blinking_ratio(eye_points, facial_landmarks):\n",
    "    left_point = (facial_landmarks.part(eye_points[0]).x, facial_landmarks.part(eye_points[0]).y)\n",
    "    right_point = (facial_landmarks.part(eye_points[3]).x, facial_landmarks.part(eye_points[3]).y)\n",
    "    center_top = midpoint(facial_landmarks.part(eye_points[1]), facial_landmarks.part(eye_points[2]))\n",
    "    center_bottom = midpoint(facial_landmarks.part(eye_points[5]), facial_landmarks.part(eye_points[4]))\n",
    "    ver_line = cv2.line(frame, center_bottom, center_top, (0,255,0),2)\n",
    "    hor_line = cv2.line(frame, left_point, right_point, (0,255,0),2)\n",
    "    ver_line_len = hypot((center_top[0] - center_bottom[0]),(center_top[1] - center_bottom[1]))\n",
    "    hor_line_len = hypot((left_point[0] - right_point[0]), (left_point[1] - right_point[1]))\n",
    "    ratio = hor_line_len / ver_line_len  \n",
    "    return ratio;  \n",
    "\n",
    "def get_gaze_ratio(eye_points, facial_landmarks):\n",
    "    left_eye_region = np.array([(landmarks.part(36).x, landmarks.part(36).y),\n",
    "                                    (facial_landmarks.part(eye_points[0]).x, facial_landmarks.part(eye_points[0]).y),\n",
    "                                    (facial_landmarks.part(eye_points[1]).x, facial_landmarks.part(eye_points[1]).y),\n",
    "                                    (facial_landmarks.part(eye_points[2]).x, facial_landmarks.part(eye_points[2]).y),\n",
    "                                    (facial_landmarks.part(eye_points[3]).x, facial_landmarks.part(eye_points[3]).y),\n",
    "                                    (facial_landmarks.part(eye_points[4]).x, facial_landmarks.part(eye_points[4]).y),\n",
    "                                    (facial_landmarks.part(eye_points[5]).x, facial_landmarks.part(eye_points[5]).y)\n",
    "                                   ], np.int32)\n",
    "    height, width, _ = frame.shape\n",
    "    mask = np.zeros((height,width), np.uint8)\n",
    "    cv2.polylines(mask, [left_eye_region], True, 255, 2)\n",
    "    cv2.fillPoly(mask, [left_eye_region], 255)\n",
    "    eye = cv2.bitwise_and(gray, gray, mask=mask)\n",
    "    \n",
    "    min_x = np.min(left_eye_region[:, 0])\n",
    "    max_x = np.max(left_eye_region[: , 0])\n",
    "    min_y = np.min(left_eye_region[: , 1])\n",
    "    max_y = np.max(left_eye_region[: , 1])\n",
    "    \n",
    "    gray_eye = eye[min_y: max_y, min_x: max_x]\n",
    "    _, threshold_eye = cv2.threshold(gray_eye, 70, 255, cv2.THRESH_BINARY)\n",
    "    height, width = threshold_eye.shape\n",
    "    left_side_threshold = threshold_eye[0: height, 0: int(width/2)]\n",
    "    left_side_white = cv2.countNonZero(left_side_threshold)\n",
    "    \n",
    "    right_side_threshold = threshold_eye[0: height, int(width / 2): width]\n",
    "    right_side_white = cv2.countNonZero(right_side_threshold)\n",
    "    \n",
    "    \n",
    "    gaze_ratio = left_side_white/(right_side_white+1)\n",
    "    return gaze_ratio\n",
    "    \n",
    "while True:\n",
    "    _, frame = cap.read()\n",
    "    gray = cv2.cvtColor(frame, cv2.COLOR_BGR2GRAY)\n",
    "    faces = detector(gray)\n",
    "    for face in faces:\n",
    "        x,y = face.left(), face.top()\n",
    "        x1,y1 = face.right(),face.bottom()\n",
    "        # cv2.rectangle(frame, (x, y), (x1, y1), (0, 165, 255), 2)\n",
    "        landmarks = predictor(gray, face)\n",
    "        left_eye_ratio = get_blinking_ratio([36, 37, 38, 39, 40, 41], landmarks)\n",
    "        right_eye_ratio = get_blinking_ratio([42, 43, 44, 45, 46, 47], landmarks)\n",
    "        blinking_ratio = (left_eye_ratio+right_eye_ratio)/2\n",
    "        left_eye_region = np.array([(landmarks.part(36).x, landmarks.part(36).y),\n",
    "                                    (landmarks.part(37).x, landmarks.part(37).y),\n",
    "                                    (landmarks.part(38).x, landmarks.part(38).y),\n",
    "                                    (landmarks.part(39).x, landmarks.part(39).y),\n",
    "                                    (landmarks.part(40).x, landmarks.part(40).y),\n",
    "                                    (landmarks.part(41).x, landmarks.part(41).y)\n",
    "                                   ], np.int32)\n",
    "        # cv2.polylines(frame, [left_eye_region], True, (0,0,255), 2)\n",
    "        gaze_ratio_left_eye = get_gaze_ratio([36, 37, 38, 39, 40, 41], landmarks)\n",
    "        cv2.putText(frame, str(gaze_ratio_left_eye), (50, 100), cv2.FONT_HERSHEY_SIMPLEX, 1, (0, 255, 0), 2)\n",
    "        # cv2.putText(frame,str(blinking_ratio), (100,200), cv2.FONT_HERSHEY_SIMPLEX, 1, (0, 255, 0), 2)\n",
    "    if gaze_ratio_left_eye >= 0.5:\n",
    "    # Move mouse to the left\n",
    "        pyautogui.moveRel(-10, 0, duration=0.1)\n",
    "    elif gaze_ratio_left_eye <=0.5:\n",
    "    # Move mouse to the right\n",
    "        pyautogui.moveRel(10, 0, duration=0.1)\n",
    "    elif gaze_ratio_left_eye==0 or gaze_ratio_left_eye>10:         \n",
    "        pyautogui.moveRel(0,0, duration=0.1)\n",
    "    cv2.imshow(\"Frame\", frame)\n",
    "    key = cv2.waitKey(1)\n",
    "    if key == 27:\n",
    "        break\n",
    "cap.release()\n",
    "cv2.destroyAllWindows()"
   ]
  },
  {
   "cell_type": "code",
   "execution_count": 2,
   "metadata": {},
   "outputs": [
    {
     "name": "stdout",
     "output_type": "stream",
     "text": [
      "64\n"
     ]
    }
   ],
   "source": []
  },
  {
   "cell_type": "code",
   "execution_count": null,
   "metadata": {},
   "outputs": [],
   "source": []
  }
 ],
 "metadata": {
  "kernelspec": {
   "display_name": "Python 3",
   "language": "python",
   "name": "python3"
  },
  "language_info": {
   "codemirror_mode": {
    "name": "ipython",
    "version": 3
   },
   "file_extension": ".py",
   "mimetype": "text/x-python",
   "name": "python",
   "nbconvert_exporter": "python",
   "pygments_lexer": "ipython3",
   "version": "3.10.7"
  },
  "orig_nbformat": 4
 },
 "nbformat": 4,
 "nbformat_minor": 2
}
